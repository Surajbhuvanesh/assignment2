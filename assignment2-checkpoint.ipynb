{
 "cells": [
  {
   "cell_type": "code",
   "execution_count": 16,
   "metadata": {},
   "outputs": [
    {
     "name": "stdout",
     "output_type": "stream",
     "text": [
      "1\n",
      "2\n",
      "6\n",
      "24\n",
      "120\n"
     ]
    }
   ],
   "source": [
    "def myreduce(a,b):\n",
    "        y=1\n",
    "        for i in range(a,b):\n",
    "            y=y*i\n",
    "            yield y\n",
    "for num in myreduce(1,6):\n",
    "    print(num)"
   ]
  },
  {
   "cell_type": "code",
   "execution_count": 30,
   "metadata": {},
   "outputs": [
    {
     "name": "stdout",
     "output_type": "stream",
     "text": [
      "2\n",
      "4\n",
      "6\n",
      "8\n"
     ]
    }
   ],
   "source": [
    "def myfilter(a,b):\n",
    "    for i in range(a,b):\n",
    "        if i%2==0:\n",
    "            yield i\n",
    "for num in myfilter(1,10):\n",
    "    print(num)"
   ]
  },
  {
   "cell_type": "code",
   "execution_count": 7,
   "metadata": {},
   "outputs": [
    {
     "name": "stdout",
     "output_type": "stream",
     "text": [
      "yogheshhhhh\n"
     ]
    }
   ],
   "source": [
    "def find_lw(wordlst):\n",
    "    word_len=[]\n",
    "    for n in wordlst:\n",
    "        word_len.append((len(n),n))\n",
    "    word_len.sort()\n",
    "    return word_len[-1][1]\n",
    "print(find_lw(['bhuvanesh','yogheshhhhh','manoj','john']))\n",
    "    "
   ]
  },
  {
   "cell_type": "code",
   "execution_count": 23,
   "metadata": {},
   "outputs": [
    {
     "name": "stdout",
     "output_type": "stream",
     "text": [
      "True\n",
      "False\n"
     ]
    }
   ],
   "source": [
    "def is_vowel(char):\n",
    "    lvowel='aeiou'\n",
    "    return char in lvowel\n",
    "print(is_vowel('a'))\n",
    "print(is_vowel('y'))"
   ]
  },
  {
   "cell_type": "code",
   "execution_count": 51,
   "metadata": {},
   "outputs": [
    {
     "name": "stdout",
     "output_type": "stream",
     "text": [
      "[2, 3, 4]\n"
     ]
    }
   ],
   "source": [
    "words=['ab','cde','efty']\n",
    "zq=list(map(lambda x :len(str(x)),words))\n",
    "print(zq)"
   ]
  },
  {
   "cell_type": "code",
   "execution_count": 21,
   "metadata": {},
   "outputs": [
    {
     "name": "stdout",
     "output_type": "stream",
     "text": [
      "enter the words:suraj bhuvanesh ham jan \n",
      "max length of words:3\n",
      "words longer than 3 are suraj,bhuvanesh,ham,jan .\n"
     ]
    }
   ],
   "source": [
    "def lw(wordlst,length):\n",
    "    return (x for x in wordlst if len(x)>=length)\n",
    "def main():\n",
    "    words=input('enter the words:').split()\n",
    "    length=int(input('max length of words:'))\n",
    "    print('words longer than {} are {} .'.format(length,','.join(lw(words,length))))\n",
    "main()"
   ]
  },
  {
   "cell_type": "code",
   "execution_count": 1,
   "metadata": {},
   "outputs": [
    {
     "name": "stdout",
     "output_type": "stream",
     "text": [
      "[['x', 'xx', 'xxx', 'xxxx'], ['y', 'yy', 'yyy', 'yyyy'], ['z', 'zz', 'zzz', 'zzzz']]\n",
      "['x', 'xx', 'xxx', 'xxxx', 'y', 'yy', 'yyy', 'yyyy', 'z', 'zz', 'zzz', 'zzzz']\n"
     ]
    }
   ],
   "source": [
    "repeat=[[i,i*2,i*3,i*4] for i in \"xyz\"]\n",
    "print(repeat)\n",
    "merged=[]\n",
    "for x in repeat:\n",
    "    merged.extend(x)\n",
    "print(merged)"
   ]
  },
  {
   "cell_type": "code",
   "execution_count": 2,
   "metadata": {},
   "outputs": [
    {
     "name": "stdout",
     "output_type": "stream",
     "text": [
      "[['x', 'y', 'z'], ['xx', 'yy', 'zz'], ['xxx', 'yyy', 'zzz'], ['xxxx', 'yyyy', 'zzzz']]\n",
      "['x', 'y', 'z', 'xx', 'yy', 'zz', 'xxx', 'yyy', 'zzz', 'xxxx', 'yyyy', 'zzzz']\n"
     ]
    }
   ],
   "source": [
    "x=[[i for i in \"xyz\"],[i*2 for i in \"xyz\"],[i*3 for i in \"xyz\"],[i*4 for i in \"xyz\"]]\n",
    "print(x)\n",
    "merged=[]\n",
    "for n in x:\n",
    "    merged.extend(n)\n",
    "print(merged)"
   ]
  },
  {
   "cell_type": "code",
   "execution_count": 5,
   "metadata": {},
   "outputs": [
    {
     "name": "stdout",
     "output_type": "stream",
     "text": [
      "10, 10, 10 are the sides of triangle.\n",
      "area of triangle is\n",
      "173.20508075688772\n"
     ]
    }
   ],
   "source": [
    "class triangle:\n",
    "    import math\n",
    "    def __init__(self,S1,S2,S3):\n",
    "        self.S1=S1\n",
    "        self.S2=S2\n",
    "        self.S3=S3\n",
    "    def sides(self):\n",
    "       return \"%d, %d, %d are the sides of triangle.\"%(self.S1,self.S2,self.S3)\n",
    "class area(triangle):\n",
    "    def __init__(self,S1,S2,S3,denom):\n",
    "        triangle.__init__(self,S1,S2,S3)\n",
    "        self.denom=denom\n",
    "    def halfper(self):\n",
    "        print(\"area of triangle is\")\n",
    "        return ((((self.S1+self.S2+self.S3)/self.denom)*(((self.S1+self.S2+self.S3)/self.denom)-(self.S1))*(((self.S1+self.S2+self.S3)/self.denom)-(self.S2))*(((self.S1+self.S2+self.S3)/self.denom)-(self.S3)))**0.5)  \n",
    "b=triangle(10,10,10)\n",
    "print(b.sides())\n",
    "c = area(20,20,20,2)\n",
    "print(c.halfper())"
   ]
  }
 ],
 "metadata": {
  "kernelspec": {
   "display_name": "Python 3",
   "language": "python",
   "name": "python3"
  },
  "language_info": {
   "codemirror_mode": {
    "name": "ipython",
    "version": 3
   },
   "file_extension": ".py",
   "mimetype": "text/x-python",
   "name": "python",
   "nbconvert_exporter": "python",
   "pygments_lexer": "ipython3",
   "version": "3.6.5"
  }
 },
 "nbformat": 4,
 "nbformat_minor": 2
}
